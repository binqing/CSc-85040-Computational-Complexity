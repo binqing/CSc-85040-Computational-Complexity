{
 "cells": [
  {
   "cell_type": "markdown",
   "id": "a8b57eee",
   "metadata": {},
   "source": [
    "##### Implement algorithm of fast least squares method via SRHT projection and evaluate its relative error on the following inputs A"
   ]
  },
  {
   "cell_type": "code",
   "execution_count": 58,
   "id": "17257064",
   "metadata": {},
   "outputs": [],
   "source": [
    "import numpy as np\n",
    "import math"
   ]
  },
  {
   "cell_type": "code",
   "execution_count": 59,
   "id": "2d49b03c",
   "metadata": {},
   "outputs": [],
   "source": [
    "# choose positive integers m, n with m > n and c, where c is the sampling parameter\n",
    "m =2000\n",
    "n =200\n",
    "c =1200"
   ]
  },
  {
   "cell_type": "code",
   "execution_count": 60,
   "id": "81015685",
   "metadata": {
    "scrolled": false
   },
   "outputs": [],
   "source": [
    "# Generate an m x n Gaussian random matrix M (where entries are i.i.d. N(0,1)\n",
    "M = np.random.normal(0.0, 1.0, size= (m, n))"
   ]
  },
  {
   "cell_type": "code",
   "execution_count": 61,
   "id": "9b6c6e49",
   "metadata": {},
   "outputs": [],
   "source": [
    "# Compute SVD of M = UΣV^T\n",
    "U, S, Vh = np.linalg.svd(M, full_matrices=False)"
   ]
  },
  {
   "cell_type": "code",
   "execution_count": 62,
   "id": "526f35f0",
   "metadata": {},
   "outputs": [],
   "source": [
    "sigma = np.diag(np.random.uniform(low=1.0, high=1.0e6, size=n))"
   ]
  },
  {
   "cell_type": "code",
   "execution_count": 63,
   "id": "f28e6a73",
   "metadata": {},
   "outputs": [],
   "source": [
    "# Set σ1 in matrix S to 1.0 \n",
    "sigma[0,0] = 1"
   ]
  },
  {
   "cell_type": "code",
   "execution_count": 64,
   "id": "82c0cbae",
   "metadata": {},
   "outputs": [],
   "source": [
    "# Set σn in matrix S to 10^6\n",
    "sigma[-1,-1] = 1e6"
   ]
  },
  {
   "cell_type": "code",
   "execution_count": 65,
   "id": "678debdf",
   "metadata": {},
   "outputs": [],
   "source": [
    "# Construct input matrix A as A = U · S · V^T\n",
    "A = U @ sigma @ Vh"
   ]
  },
  {
   "cell_type": "code",
   "execution_count": 66,
   "id": "1c23c423",
   "metadata": {},
   "outputs": [],
   "source": [
    "# Generate an m-dimensional Gaussian random vector b\n",
    "b = np.random.normal(0.0, 1.0, size =(m,1))"
   ]
  },
  {
   "cell_type": "code",
   "execution_count": 67,
   "id": "25205b16",
   "metadata": {},
   "outputs": [],
   "source": [
    "# Computes SRHT projection of A, where R = P*H*D\n",
    "# sampling random rows\n",
    "#sampled_rows = np.random.choice(m, size=c, replace=True) \n",
    "#sampled_rows"
   ]
  },
  {
   "cell_type": "code",
   "execution_count": 68,
   "id": "ad48668e",
   "metadata": {},
   "outputs": [],
   "source": [
    "# Computes SRHT projection of A, where R = P*H*D\n",
    "# sampling random rows\n",
    "rng= np.random.default_rng()\n",
    "sampled_rows = rng.choice(m, size=c, replace=True)"
   ]
  },
  {
   "cell_type": "code",
   "execution_count": 69,
   "id": "91b1e646",
   "metadata": {},
   "outputs": [],
   "source": [
    "# generate a random column sampling matrix P with m rows and c columns\n",
    "P = np.zeros((m,c))"
   ]
  },
  {
   "cell_type": "code",
   "execution_count": 70,
   "id": "8209da89",
   "metadata": {},
   "outputs": [],
   "source": [
    "# fill the matrix P \n",
    "# update the value of ith, jth element of Matrix P with sqrt(m/c) with the associated probability to increase randomnese\n",
    "for index, value in enumerate(sampled_rows):\n",
    "    #P[value, index] = np.sqrt(m/c)\n",
    "    P[value, index] = np.random.choice([np.sqrt(m/c), -np.sqrt(m/c), 0], size=1, p=[0.4, 0.4, 0.2])"
   ]
  },
  {
   "cell_type": "code",
   "execution_count": 71,
   "id": "ddd27be2",
   "metadata": {},
   "outputs": [],
   "source": [
    "# Create an normalized hadamard matrix where H = 1/sqrt(m) * Hn\n",
    "# Compute the discrete Fourier Transform, and normalized the matrix\n",
    "h = np.eye(m)\n",
    "H = np.fft.fft(h) / np.sqrt(m)"
   ]
  },
  {
   "cell_type": "code",
   "execution_count": 72,
   "id": "bdee6ea2",
   "metadata": {},
   "outputs": [],
   "source": [
    "# Generate a n × n diagonal matrix D with ±1 on the diagonal (add random sign to\n",
    "# avoid catastrophic cancellation in the mixing)\n",
    "num = [-1, 1]\n",
    "D = np.diag(np.random.choice(num, size=m))"
   ]
  },
  {
   "cell_type": "code",
   "execution_count": 73,
   "id": "df384b14",
   "metadata": {},
   "outputs": [],
   "source": [
    "P_transpose = np.transpose(P)"
   ]
  },
  {
   "cell_type": "code",
   "execution_count": 74,
   "id": "2673e770",
   "metadata": {},
   "outputs": [],
   "source": [
    "# compute P_transpose * H * D \n",
    "P_THD = P_transpose @ H @ D"
   ]
  },
  {
   "cell_type": "code",
   "execution_count": 75,
   "id": "c3e52c14",
   "metadata": {},
   "outputs": [],
   "source": [
    "# compute pseudo inverse of P_transpose * H * D * A\n",
    "# pseudo_inv = np.linalg.pinv(P_transpose @ H @ D @A) @ P_transpose @ H @ D @ b\n",
    "pseudo_inv = np.linalg.pinv(P_THD @ A)"
   ]
  },
  {
   "cell_type": "code",
   "execution_count": 76,
   "id": "b7f8f7fe",
   "metadata": {},
   "outputs": [],
   "source": [
    "# compute the solution by using a randomized algorithm\n",
    "x_output = np.real(pseudo_inv @ P_THD @ b)"
   ]
  },
  {
   "cell_type": "code",
   "execution_count": 77,
   "id": "f477d374",
   "metadata": {},
   "outputs": [],
   "source": [
    "# comopute solution using a deterministic least square method\n",
    "x_opt = np.linalg.lstsq(A, b,rcond = None)[0]"
   ]
  },
  {
   "cell_type": "code",
   "execution_count": 78,
   "id": "b158797a",
   "metadata": {},
   "outputs": [
    {
     "name": "stdout",
     "output_type": "stream",
     "text": [
      "Relative approximation error: 1.0721942183031496\n"
     ]
    }
   ],
   "source": [
    "# compute the relative approximation error using l2 norm\n",
    "relative_err = np.linalg.norm(A @ x_output - b) / np.linalg.norm(A @ x_opt - b)\n",
    "print('Relative approximation error:', relative_err)"
   ]
  }
 ],
 "metadata": {
  "kernelspec": {
   "display_name": "Python 3 (ipykernel)",
   "language": "python",
   "name": "python3"
  },
  "language_info": {
   "codemirror_mode": {
    "name": "ipython",
    "version": 3
   },
   "file_extension": ".py",
   "mimetype": "text/x-python",
   "name": "python",
   "nbconvert_exporter": "python",
   "pygments_lexer": "ipython3",
   "version": "3.9.12"
  }
 },
 "nbformat": 4,
 "nbformat_minor": 5
}
